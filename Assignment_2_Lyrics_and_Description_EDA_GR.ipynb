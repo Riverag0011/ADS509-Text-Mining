{
  "cells": [
    {
      "cell_type": "markdown",
      "metadata": {
        "id": "view-in-github",
        "colab_type": "text"
      },
      "source": [
        "<a href=\"https://colab.research.google.com/github/Riverag0011/ADS509-Text-Mining/blob/main/Assignment_2_Lyrics_and_Description_EDA_GR.ipynb\" target=\"_parent\"><img src=\"https://colab.research.google.com/assets/colab-badge.svg\" alt=\"Open In Colab\"/></a>"
      ]
    },
    {
      "cell_type": "markdown",
      "id": "JZ08qOwqiFuh",
      "metadata": {
        "id": "JZ08qOwqiFuh"
      },
      "source": [
        "# Assignment 2: Lyrics and Description EDA\n",
        "\n",
        "Name: Gabi Rivera \\\n",
        "Course: ADS409-01 \\\n",
        "Date: 15Sep2024"
      ]
    },
    {
      "cell_type": "markdown",
      "id": "7f79baf9",
      "metadata": {
        "id": "7f79baf9"
      },
      "source": [
        "# ADS 509 Assignment 2.1: Tokenization, Normalization, Descriptive Statistics\n",
        "\n",
        "This notebook holds Assignment 2.1 for Module 2 in ADS 509, Applied Text Mining. Work through this notebook, writing code and answering questions where required.\n",
        "\n",
        "In the previous assignment you put together Twitter data and lyrics data on two artists. In this assignment we explore some of the textual features of those data sets. If, for some reason, you did not complete that previous assignment, data to use for this assignment can be found in the assignment materials section of Blackboard.\n",
        "\n",
        "This assignment asks you to write a short function to calculate some descriptive statistics on a piece of text. Then you are asked to find some interesting and unique statistics on your corpora.\n"
      ]
    },
    {
      "cell_type": "markdown",
      "id": "aae8e2e1",
      "metadata": {
        "id": "aae8e2e1"
      },
      "source": [
        "## General Assignment Instructions\n",
        "\n",
        "These instructions are included in every assignment, to remind you of the coding standards for the class. Feel free to delete this cell after reading it.\n",
        "\n",
        "One sign of mature code is conforming to a style guide. We recommend the [Google Python Style Guide](https://google.github.io/styleguide/pyguide.html). If you use a different style guide, please include a cell with a link.\n",
        "\n",
        "Your code should be relatively easy-to-read, sensibly commented, and clean. Writing code is a messy process, so please be sure to edit your final submission. Remove any cells that are not needed or parts of cells that contain unnecessary code. Remove inessential `import` statements and make sure that all such statements are moved into the designated cell.\n",
        "\n",
        "Make use of non-code cells for written commentary. These cells should be grammatical and clearly written. In some of these cells you will have questions to answer. The questions will be marked by a \"Q:\" and will have a corresponding \"A:\" spot for you. *Make sure to answer every question marked with a `Q:` for full credit.*\n"
      ]
    },
    {
      "cell_type": "code",
      "execution_count": null,
      "id": "6b555ab2",
      "metadata": {
        "colab": {
          "base_uri": "https://localhost:8080/"
        },
        "id": "6b555ab2",
        "outputId": "998fdb51-014b-4c5a-acb6-cacf4d4caa0d"
      },
      "outputs": [
        {
          "name": "stderr",
          "output_type": "stream",
          "text": [
            "[nltk_data] Downloading package stopwords to /Users/gabi/nltk_data...\n",
            "[nltk_data]   Package stopwords is already up-to-date!\n"
          ]
        }
      ],
      "source": [
        "# Add any additional import statements you need here\n",
        "#!pip install nltk\n",
        "#!pip install emoji\n",
        "#!pip install pandas\n",
        "#!pip install matplotlib\n",
        "import nltk\n",
        "nltk.download('stopwords')\n",
        "from collections import defaultdict\n",
        "import string\n",
        "import csv\n",
        "import matplotlib.pyplot as plt"
      ]
    },
    {
      "cell_type": "code",
      "execution_count": null,
      "id": "e2d096b7",
      "metadata": {
        "id": "e2d096b7"
      },
      "outputs": [],
      "source": [
        "import os\n",
        "import re\n",
        "import emoji\n",
        "import pandas as pd\n",
        "import numpy as np\n",
        "\n",
        "from collections import Counter, defaultdict\n",
        "from nltk.corpus import stopwords\n",
        "from string import punctuation"
      ]
    },
    {
      "cell_type": "code",
      "execution_count": null,
      "id": "923b5a86",
      "metadata": {
        "id": "923b5a86"
      },
      "outputs": [],
      "source": [
        "# change `data_location` to the location of the folder on your machine.\n",
        "#data_location = \"/content/M1 Results\"\n",
        "data_location = \"/Users/gabi/Desktop/MSADS/MSADS6/ADS-509-01 Applied Text Mining/Module2 Preparing Data for Analysis and Descriptive Statistics/Assignment\"\n",
        "\n",
        "# These subfolders should still work if you correctly stored the\n",
        "# data from the Module 1 assignment\n",
        "twitter_folder = os.path.join(data_location, \"twitter\")\n",
        "lyrics_folder = os.path.join(data_location, \"lyrics\")"
      ]
    },
    {
      "cell_type": "code",
      "execution_count": null,
      "id": "XpF3TRHOtgvZ",
      "metadata": {
        "id": "XpF3TRHOtgvZ"
      },
      "outputs": [],
      "source": [
        "from collections import Counter\n",
        "\n",
        "def descriptive_stats(tokens, num_tokens=5, verbose=True):\n",
        "    \"\"\"\n",
        "    Given a list of tokens, print number of tokens, number of unique tokens,\n",
        "    number of characters, lexical diversity, and num_tokens most common tokens.\n",
        "    Return a list with the number of tokens, number of unique tokens,\n",
        "    lexical diversity, and number of characters.\n",
        "    \"\"\"\n",
        "    # Calculate the number of tokens\n",
        "    num_tokens = len(tokens)\n",
        "\n",
        "    # Calculate the number of unique tokens\n",
        "    unique_tokens = set(tokens)\n",
        "    num_unique_tokens = len(unique_tokens)\n",
        "\n",
        "    # Calculate the number of characters\n",
        "    num_characters = sum(len(token) for token in tokens)\n",
        "\n",
        "    # Calculate lexical diversity\n",
        "    lexical_diversity = num_unique_tokens / num_tokens if num_tokens > 0 else 0\n",
        "\n",
        "    # Calculate the frequency of each token\n",
        "    token_frequencies = Counter(tokens)\n",
        "\n",
        "    # Get the most common tokens\n",
        "    most_common_tokens = token_frequencies.most_common(num_tokens)\n",
        "\n",
        "    # Print statistics if verbose\n",
        "    if verbose:\n",
        "        print(f\"There are {num_tokens} tokens in the data.\")\n",
        "        print(f\"There are {num_unique_tokens} unique tokens in the data.\")\n",
        "        print(f\"There are {num_characters} characters in the data.\")\n",
        "        print(f\"The lexical diversity is {lexical_diversity:.3f} in the data.\")\n",
        "\n",
        "        # Print the most common tokens\n",
        "        print(f\"The {num_tokens} most common tokens are:\")\n",
        "        for token, count in most_common_tokens:\n",
        "            print(f\"{token}: {count}\")\n",
        "\n",
        "    return [num_tokens, num_unique_tokens, lexical_diversity, num_characters]"
      ]
    },
    {
      "cell_type": "code",
      "execution_count": null,
      "id": "59dcf058",
      "metadata": {
        "colab": {
          "base_uri": "https://localhost:8080/"
        },
        "id": "59dcf058",
        "outputId": "65615d7a-3208-4583-c048-c09234b442fe"
      },
      "outputs": [
        {
          "name": "stdout",
          "output_type": "stream",
          "text": [
            "There are 13 tokens in the data.\n",
            "There are 9 unique tokens in the data.\n",
            "There are 55 characters in the data.\n",
            "The lexical diversity is 0.692 in the data.\n",
            "The 13 most common tokens are:\n",
            "text: 3\n",
            "here: 2\n",
            "example: 2\n",
            "is: 1\n",
            "some: 1\n",
            "with: 1\n",
            "other: 1\n",
            "in: 1\n",
            "this: 1\n"
          ]
        }
      ],
      "source": [
        "text = \"\"\"here is some example text with other example text here in this text\"\"\".split()\n",
        "assert(descriptive_stats(text, verbose=True)[0] == 13)\n",
        "assert(descriptive_stats(text, verbose=False)[1] == 9)\n",
        "assert(abs(descriptive_stats(text, verbose=False)[2] - 0.69) < 0.02)\n",
        "assert(descriptive_stats(text, verbose=False)[3] == 55)"
      ]
    },
    {
      "cell_type": "markdown",
      "id": "d2e7e1a2",
      "metadata": {
        "id": "d2e7e1a2"
      },
      "source": [
        "Q: Why is it beneficial to use assertion statements in your code?\n",
        "\n",
        "A: Assertion statemetns allows us to double check that the code is working. It's a way to verify that working under the assumptions that we have of the code."
      ]
    },
    {
      "cell_type": "markdown",
      "id": "9d3bf93e",
      "metadata": {
        "id": "9d3bf93e"
      },
      "source": [
        "## Data Input\n",
        "\n",
        "Now read in each of the corpora. For the lyrics data, it may be convenient to store the entire contents of the file to make it easier to inspect the titles individually, as you'll do in the last part of the assignment. In the solution, I stored the lyrics data in a dictionary with two dimensions of keys: artist and song. The value was the file contents. A data frame would work equally well.\n",
        "\n",
        "For the Twitter data, we only need the description field for this assignment. Feel free all the descriptions read it into a data structure. In the solution, I stored the descriptions as a dictionary of lists, with the key being the artist.\n",
        "\n",
        "\n"
      ]
    },
    {
      "cell_type": "code",
      "execution_count": null,
      "id": "37d70801",
      "metadata": {
        "colab": {
          "base_uri": "https://localhost:8080/"
        },
        "id": "37d70801",
        "outputId": "87a1aede-1f89-4c2e-d2f9-7d5aa3708a9e"
      },
      "outputs": [
        {
          "name": "stdout",
          "output_type": "stream",
          "text": [
            "Lyrics Data Dictionary (limited to 5 songs):\n",
            "Artist: robyn\n",
            "  Song: robyn_includemeout\n",
            "    Lyrics (first 50 characters): \"Include Me Out\"\n",
            "\n",
            "\n",
            "\n",
            "It is really very simple\n",
            "Just ...\n",
            "Artist: robyn\n",
            "  Song: robyn_electric\n",
            "    Lyrics (first 50 characters): \"Electric\"\n",
            "\n",
            "\n",
            "\n",
            "Electric...\n",
            "\n",
            "It's electric\n",
            "It's a na...\n",
            "Artist: robyn\n",
            "  Song: robyn_beach2k20\n",
            "    Lyrics (first 50 characters): \"Beach 2K20\"\n",
            "\n",
            "\n",
            "\n",
            "(So you wanna go out?\n",
            "How you gonn...\n",
            "Artist: robyn\n",
            "  Song: robyn_lovekills\n",
            "    Lyrics (first 50 characters): \"Love Kills\"\n",
            "\n",
            "\n",
            "\n",
            "If you're looking for love\n",
            "Get a h...\n",
            "Artist: robyn\n",
            "  Song: robyn_timemachine\n",
            "    Lyrics (first 50 characters): \"Time Machine\"\n",
            "\n",
            "\n",
            "\n",
            "Hey, what did I do?\n",
            "Can't believ...\n",
            "Artist: cher\n",
            "  Song: cher_comeandstaywithme\n",
            "    Lyrics (first 50 characters): \"Come And Stay With Me\"\n",
            "\n",
            "\n",
            "\n",
            "I'll send away all my f...\n",
            "Artist: cher\n",
            "  Song: cher_pirate\n",
            "    Lyrics (first 50 characters): \"Pirate\"\n",
            "\n",
            "\n",
            "\n",
            "He'll sail on with the summer wind\n",
            "Tha...\n",
            "Artist: cher\n",
            "  Song: cher_stars\n",
            "    Lyrics (first 50 characters): \"Stars\"\n",
            "\n",
            "\n",
            "\n",
            "I was never one for saying what I reall...\n",
            "Artist: cher\n",
            "  Song: cher_thesedays\n",
            "    Lyrics (first 50 characters): \"These Days\"\n",
            "\n",
            "\n",
            "\n",
            "Well I've been out walking \n",
            "And I ...\n",
            "Artist: cher\n",
            "  Song: cher_lovesohigh\n",
            "    Lyrics (first 50 characters): \"Love So High\"\n",
            "\n",
            "\n",
            "\n",
            "Every morning I would wake up\n",
            "An...\n",
            "\n",
            "Lyrics DataFrame (limited to 5 songs):\n",
            "  artist                song  \\\n",
            "0  robyn  robyn_includemeout   \n",
            "1  robyn      robyn_electric   \n",
            "2  robyn     robyn_beach2k20   \n",
            "3  robyn     robyn_lovekills   \n",
            "4  robyn   robyn_timemachine   \n",
            "\n",
            "                                              lyrics  \n",
            "0  \"Include Me Out\"\\n\\n\\n\\nIt is really very simp...  \n",
            "1  \"Electric\"\\n\\n\\n\\nElectric...\\n\\nIt's electric...  \n",
            "2  \"Beach 2K20\"\\n\\n\\n\\n(So you wanna go out?\\nHow...  \n",
            "3  \"Love Kills\"\\n\\n\\n\\nIf you're looking for love...  \n",
            "4  \"Time Machine\"\\n\\n\\n\\nHey, what did I do?\\nCan...  \n"
          ]
        }
      ],
      "source": [
        "# Read in the lyrics data\n",
        "\n",
        "# Define the folder containing lyrics\n",
        "#lyrics_folder = \"/content/M1 Results/lyrics\"\n",
        "lyrics_folder = \"/Users/gabi/Desktop/MSADS/MSADS6/ADS-509-01 Applied Text Mining/Module2 Preparing Data for Analysis and Descriptive Statistics/Assignment/M1 Results/lyrics\"\n",
        "\n",
        "# Initialize a dictionary to store lyrics by artist and song\n",
        "lyrics_data = defaultdict(lambda: defaultdict(str))\n",
        "\n",
        "# Function to read lyrics from text files\n",
        "def read_lyrics_from_text(file_path):\n",
        "    try:\n",
        "        with open(file_path, 'r', encoding='utf-8') as file:\n",
        "            content = file.read()\n",
        "            return content\n",
        "    except Exception as e:\n",
        "        print(f\"Error reading file {file_path}: {e}\")\n",
        "        return \"\"\n",
        "\n",
        "# Read lyrics data\n",
        "for artist in os.listdir(lyrics_folder):\n",
        "    artist_path = os.path.join(lyrics_folder, artist)\n",
        "    if os.path.isdir(artist_path) and artist != '.ipynb_checkpoints':\n",
        "        for song_file in os.listdir(artist_path):\n",
        "            song_path = os.path.join(artist_path, song_file)\n",
        "            if os.path.isfile(song_path):\n",
        "                lyrics = read_lyrics_from_text(song_path)\n",
        "                song_title = os.path.splitext(song_file)[0]\n",
        "                lyrics_data[artist][song_title] = lyrics\n",
        "\n",
        "# Convert dictionary to a DataFrame\n",
        "data = {\n",
        "    'artist': [],\n",
        "    'song': [],\n",
        "    'lyrics': []\n",
        "}\n",
        "for artist, songs in lyrics_data.items():\n",
        "    for song, lyrics in songs.items():\n",
        "        data['artist'].append(artist)\n",
        "        data['song'].append(song)\n",
        "        data['lyrics'].append(lyrics)\n",
        "\n",
        "lyrics_df = pd.DataFrame(data)\n",
        "\n",
        "# Limit to 5 songs for display\n",
        "limited_df = lyrics_df.head(5)\n",
        "\n",
        "# Display the dictionary and DataFrame to verify\n",
        "print(\"Lyrics Data Dictionary (limited to 5 songs):\")\n",
        "for i, (artist, songs) in enumerate(lyrics_data.items()):\n",
        "    if i >= 5:\n",
        "        break\n",
        "    for j, (song, lyrics) in enumerate(songs.items()):\n",
        "        if j >= 5:\n",
        "            break\n",
        "        print(f\"Artist: {artist}\")\n",
        "        print(f\"  Song: {song}\")\n",
        "        print(f\"    Lyrics (first 50 characters): {lyrics[:50]}...\")\n",
        "\n",
        "print(\"\\nLyrics DataFrame (limited to 5 songs):\")\n",
        "print(limited_df.head(5))\n"
      ]
    },
    {
      "cell_type": "code",
      "execution_count": null,
      "id": "debcac5a",
      "metadata": {
        "colab": {
          "base_uri": "https://localhost:8080/"
        },
        "id": "debcac5a",
        "outputId": "2960ed4a-7647-4b9b-8cae-a971fb53bf96"
      },
      "outputs": [
        {
          "name": "stdout",
          "output_type": "stream",
          "text": [
            "Twitter Descriptions Dictionary (sample):\n",
            "Artist: cher_followers_data\n",
            "  Descriptions: ['', '𝙿𝚛𝚘𝚞𝚍 𝚜𝚞𝚙𝚙𝚘𝚛𝚝𝚎𝚛 𝚘𝚏 𝚖𝚎𝚜𝚜𝚢 𝚋𝚞𝚗𝚜 & 𝚕𝚎𝚐𝚐𝚒𝚗𝚐𝚜', '163㎝／愛かっぷ💜26歳🍒 工〇好きな女の子💓 フォローしてくれたらDMします🧡', 'csu', 'Writer @Washinformer @SpelmanCollege alumna #DCnative Award-winning journalist & PR pro @IABC Fellow & Past Chair IG: bcscomm Email: wibsiler@gmail.com']...\n",
            "Artist: robynkonichiwa_followers_data\n",
            "  Descriptions: ['I love chill •Facebook / Instagram / SoundCloud: AngelxoArts• https://t.co/447okKLKzA…', \"books, movies, music, nature & TV shows. OG Sweetee since '12 thanks to YouTube recommending 'This Feeling' on my homepage ♥️\", '(Am)auteur en herbe 🌱 - juriste en paille 🤡 - Ami des fleurs 🌸🌈 (sans la main verte) - music & books - #morecomingsoon... (si on en voit le bout)', 'This Twitter profile is full of sarcasm and rants with the occasional moan, dont like me dont follow me! KLF Stan Account Aspiring Youth Council rep', 'Flora Youssef - Blogger & Founder Posting review articles about the latest music 🎵 https://t.co/dx4hoIom7T https://t.co/KsplT6mZzs']...\n",
            "\n",
            "Twitter Descriptions DataFrame (sample):\n",
            "                artist                                        description\n",
            "0  cher_followers_data                                                   \n",
            "1  cher_followers_data           𝙿𝚛𝚘𝚞𝚍 𝚜𝚞𝚙𝚙𝚘𝚛𝚝𝚎𝚛 𝚘𝚏 𝚖𝚎𝚜𝚜𝚢 𝚋𝚞𝚗𝚜 & 𝚕𝚎𝚐𝚐𝚒𝚗𝚐𝚜\n",
            "2  cher_followers_data          163㎝／愛かっぷ💜26歳🍒 工〇好きな女の子💓 フォローしてくれたらDMします🧡\n",
            "3  cher_followers_data                                                csu\n",
            "4  cher_followers_data  Writer @Washinformer @SpelmanCollege alumna #D...\n",
            "5  cher_followers_data                                                   \n",
            "6  cher_followers_data    I’m unemployed and live with my parents. MOOPS!\n",
            "7  cher_followers_data                                        zoowee mama\n",
            "8  cher_followers_data                                                   \n",
            "9  cher_followers_data  Let the healing begin. Let us learn from the p...\n"
          ]
        }
      ],
      "source": [
        "# Read in the twitter data\n",
        "\n",
        "# Define the folder containing twitter\n",
        "twitter_folder = \"/Users/gabi/Desktop/MSADS/MSADS6/ADS-509-01 Applied Text Mining/Module2 Preparing Data for Analysis and Descriptive Statistics/Assignment/M1 Results/twitter\"\n",
        "\n",
        "# Initialize a dictionary to store descriptions by artist\n",
        "twitter_descriptions = defaultdict(list)\n",
        "\n",
        "# Function to clean and decode the file, handling null bytes and large fields\n",
        "def clean_and_decode_file(file_path):\n",
        "    try:\n",
        "        # Read the file in binary mode and remove null bytes\n",
        "        with open(file_path, 'rb') as file:\n",
        "            content = file.read().replace(b'\\x00', b'')\n",
        "        return content.decode('utf-8')  # Decode to string\n",
        "    except Exception as e:\n",
        "        print(f\"Error reading file {file_path}: {e}\")\n",
        "        return \"\"\n",
        "\n",
        "# Function to extract descriptions from text files\n",
        "def extract_description_from_text(file_path):\n",
        "    try:\n",
        "        content = clean_and_decode_file(file_path)\n",
        "        descriptions = []\n",
        "        # Use StringIO to simulate a file object\n",
        "        from io import StringIO\n",
        "        # Use csv.reader to handle tab-separated values\n",
        "        reader = csv.reader(StringIO(content), delimiter='\\t')\n",
        "        header = next(reader, None)\n",
        "        if header is None:\n",
        "            print(f\"Warning: No header found in file {file_path}.\")\n",
        "            return descriptions\n",
        "        if 'description' not in header:\n",
        "            print(f\"Warning: 'description' column not found in file {file_path}.\")\n",
        "            return descriptions\n",
        "        description_idx = header.index('description')\n",
        "        for row in reader:\n",
        "            if len(row) > description_idx:\n",
        "                descriptions.append(row[description_idx])\n",
        "        return descriptions\n",
        "    except Exception as e:\n",
        "        print(f\"Error processing file {file_path}: {e}\")\n",
        "        return []\n",
        "\n",
        "# Increase field size limit for csv.reader\n",
        "csv.field_size_limit(10 * 1024 * 1024)\n",
        "\n",
        "# Read Twitter data\n",
        "for tweet_file in os.listdir(twitter_folder):\n",
        "    tweet_path = os.path.join(twitter_folder, tweet_file)\n",
        "    if os.path.isfile(tweet_path) and tweet_file.endswith('_data.txt'):\n",
        "        descriptions = extract_description_from_text(tweet_path)\n",
        "        if descriptions:\n",
        "            artist = os.path.splitext(tweet_file)[0]\n",
        "            twitter_descriptions[artist].extend(descriptions)\n",
        "\n",
        "# Convert dictionary to a DataFrame for easier manipulation\n",
        "twitter_descriptions_df = pd.DataFrame([\n",
        "    {'artist': artist, 'description': desc}\n",
        "    for artist, descriptions in twitter_descriptions.items()\n",
        "    for desc in descriptions\n",
        "])\n",
        "\n",
        "# Display the dictionary and DataFrame to verify\n",
        "print(\"Twitter Descriptions Dictionary (sample):\")\n",
        "for artist, descriptions in list(twitter_descriptions.items())[:2]:\n",
        "    print(f\"Artist: {artist}\")\n",
        "    print(f\"  Descriptions: {descriptions[:5]}...\")\n",
        "\n",
        "print(\"\\nTwitter Descriptions DataFrame (sample):\")\n",
        "print(twitter_descriptions_df.head(10))"
      ]
    },
    {
      "cell_type": "markdown",
      "id": "6a5f3b12",
      "metadata": {
        "id": "6a5f3b12"
      },
      "source": [
        "## Data Cleaning\n",
        "\n",
        "Now clean and tokenize your data. Remove punctuation chacters (available in the `punctuation` object in the `string` library), split on whitespace, fold to lowercase, and remove stopwords. Store your cleaned data, which must be accessible as an interable for `descriptive_stats`, in new objects or in new columns in your data frame.\n",
        "\n"
      ]
    },
    {
      "cell_type": "code",
      "execution_count": null,
      "id": "dNAaI_aeGHkh",
      "metadata": {
        "id": "dNAaI_aeGHkh"
      },
      "outputs": [],
      "source": [
        "# Initialize stopwords and punctuation\n",
        "sw = set(stopwords.words(\"english\"))\n",
        "punctuation = set(string.punctuation)"
      ]
    },
    {
      "cell_type": "code",
      "execution_count": null,
      "id": "b327033a",
      "metadata": {
        "colab": {
          "base_uri": "https://localhost:8080/"
        },
        "id": "b327033a",
        "outputId": "b0630c4a-21a1-442a-e110-1e82230a9290"
      },
      "outputs": [
        {
          "name": "stdout",
          "output_type": "stream",
          "text": [
            "Twitter DataFrame with Cleaned Tokens:\n",
            "                          artist  \\\n",
            "0            cher_followers_data   \n",
            "1  robynkonichiwa_followers_data   \n",
            "\n",
            "                                  description_tokens  \n",
            "0  [𝙿𝚛𝚘𝚞𝚍, 𝚜𝚞𝚙𝚙𝚘𝚛𝚝𝚎𝚛, 𝚖𝚎𝚜𝚜𝚢, 𝚋𝚞𝚗𝚜, 𝚕𝚎𝚐𝚐𝚒𝚗𝚐𝚜, csu,...  \n",
            "1  [books, movies, music, nature, shows, sweetee,...  \n",
            "\n",
            "Twitter Descriptions Dictionary (sample):\n",
            "Artist: cher_followers_data\n",
            "  Tokens: ['𝙿𝚛𝚘𝚞𝚍', '𝚜𝚞𝚙𝚙𝚘𝚛𝚝𝚎𝚛', '𝚖𝚎𝚜𝚜𝚢', '𝚋𝚞𝚗𝚜', '𝚕𝚎𝚐𝚐𝚒𝚗𝚐𝚜', 'csu', 'writer', 'washinformer', 'spelmancollege', 'alumna']...\n",
            "Artist: robynkonichiwa_followers_data\n",
            "  Tokens: ['books', 'movies', 'music', 'nature', 'shows', 'sweetee', 'since', 'thanks', 'youtube', 'recommending']...\n"
          ]
        }
      ],
      "source": [
        "# create your clean twitter data here\n",
        "\n",
        "\n",
        "\n",
        "# Initialize a dictionary to store descriptions by artist\n",
        "twitter_descriptions = defaultdict(list)\n",
        "\n",
        "# Function to read descriptions from text files with error handling\n",
        "def read_description_from_text(file_path):\n",
        "    try:\n",
        "        # Try reading the file as a CSV with automatic delimiter detection\n",
        "        df = pd.read_csv(file_path, sep=None, engine='python', on_bad_lines='skip')\n",
        "        if 'description' in df.columns:\n",
        "            # Return a list of descriptions, dropping NaN values\n",
        "            return df['description'].dropna().tolist()\n",
        "        else:\n",
        "            print(f\"'description' column not found in file {file_path}\")\n",
        "            return []\n",
        "    except Exception as e:\n",
        "        print(f\"Error reading file {file_path}: {e}\")\n",
        "        return []\n",
        "\n",
        "# Function to clean and tokenize text\n",
        "def clean_and_tokenize(text):\n",
        "    # Remove punctuation\n",
        "    text = ''.join(ch for ch in text if ch not in punctuation)\n",
        "    # Convert to lowercase\n",
        "    text = text.lower()\n",
        "    # Split on whitespace\n",
        "    tokens = text.split()\n",
        "    # Remove stopwords and tokens that are not purely alphabetic or are too short\n",
        "    tokens = [word for word in tokens if word not in sw and word.isalpha() and len(word) > 2]\n",
        "    return tokens\n",
        "\n",
        "# Read Twitter data\n",
        "for tweet_file in os.listdir(twitter_folder):\n",
        "    tweet_path = os.path.join(twitter_folder, tweet_file)\n",
        "    if os.path.isfile(tweet_path):\n",
        "        # Process only files that contain comments (with 'data' in the filename)\n",
        "        if 'data' in tweet_file:\n",
        "            descriptions = read_description_from_text(tweet_path)\n",
        "            artist = os.path.splitext(tweet_file)[0]\n",
        "            for description in descriptions:\n",
        "                cleaned_tokens = clean_and_tokenize(description)\n",
        "                twitter_descriptions[artist].extend(cleaned_tokens)\n",
        "\n",
        "# Convert dictionary to a DataFrame\n",
        "twitter_data = {\n",
        "    'artist': [],\n",
        "    'description_tokens': []\n",
        "}\n",
        "for artist, tokens in twitter_descriptions.items():\n",
        "    twitter_data['artist'].append(artist)\n",
        "    twitter_data['description_tokens'].append(tokens)\n",
        "\n",
        "twitter_df = pd.DataFrame(twitter_data)\n",
        "\n",
        "# Display the DataFrame to verify\n",
        "print(\"Twitter DataFrame with Cleaned Tokens:\")\n",
        "print(twitter_df.head())\n",
        "\n",
        "# For verification, check the first few entries in the dictionary\n",
        "print(\"\\nTwitter Descriptions Dictionary (sample):\")\n",
        "for artist in list(twitter_descriptions.keys())[:2]:\n",
        "    print(f\"Artist: {artist}\")\n",
        "    print(f\"  Tokens: {twitter_descriptions[artist][:10]}...\")\n"
      ]
    },
    {
      "cell_type": "code",
      "execution_count": null,
      "id": "e0f22e10",
      "metadata": {
        "colab": {
          "base_uri": "https://localhost:8080/"
        },
        "id": "e0f22e10",
        "outputId": "93e21c05-6137-4713-cc6f-22828b88d83a"
      },
      "outputs": [
        {
          "name": "stdout",
          "output_type": "stream",
          "text": [
            "Lyrics DataFrame with Cleaned Tokens:\n",
            "  artist                 song  \\\n",
            "0  robyn     \"Include Me Out\"   \n",
            "1  robyn           \"Electric\"   \n",
            "2  robyn         \"Beach 2K20\"   \n",
            "3  robyn         \"Love Kills\"   \n",
            "4  robyn       \"Time Machine\"   \n",
            "5  robyn    \"Giving You Back\"   \n",
            "6  robyn        \"None Of Dem\"   \n",
            "7  robyn           \"Be Mine!\"   \n",
            "8  robyn             \"Fembot\"   \n",
            "9  robyn  \"Should Have Known\"   \n",
            "\n",
            "                                       lyrics_tokens  \n",
            "0  [really, simple, single, pulse, repeated, regu...  \n",
            "1  [electric, electric, natural, high, electric, ...  \n",
            "2  [wanna, gonna, get, call, someone, alright, ca...  \n",
            "3  [youre, looking, love, get, heart, made, steel...  \n",
            "4  [hey, cant, believe, fit, threw, stupid, wante...  \n",
            "5  [another, time, another, life, another, situat...  \n",
            "6  [none, boys, dance, single, one, stand, chance...  \n",
            "7  [good, thing, tears, never, show, pouring, rai...  \n",
            "8  [ive, got, news, fembots, feelings, split, hea...  \n",
            "9  [seen, coming, fucking, known, could, let, pla...  \n",
            "\n",
            "Sample Lyrics Dictionary:\n",
            "Artist: robyn\n",
            "  Song: \"Include Me Out\"\n",
            "    Tokens: ['really', 'simple', 'single', 'pulse', 'repeated', 'regular', 'interval', 'mmm', 'hmm', 'dont']...\n",
            "  Song: \"Electric\"\n",
            "    Tokens: ['electric', 'electric', 'natural', 'high', 'electric', 'dont', 'always', 'know', 'electric', 'keep']...\n",
            "Artist: cher\n",
            "  Song: \"Come And Stay With Me\"\n",
            "    Tokens: ['ill', 'send', 'away', 'false', 'pride', 'ill', 'forsake', 'life', 'yes', 'ill']...\n",
            "  Song: \"Pirate\"\n",
            "    Tokens: ['hell', 'sail', 'summer', 'wind', 'blows', 'day', 'everybody', 'calls', 'pirate', 'dark']...\n"
          ]
        }
      ],
      "source": [
        "# create your clean lyrics data here\n",
        "\n",
        "\n",
        "\n",
        "# Initialize a dictionary to store lyrics by artist and song\n",
        "lyrics_data = defaultdict(lambda: defaultdict(str))\n",
        "\n",
        "# Function to clean and tokenize text\n",
        "def clean_and_tokenize(text):\n",
        "    # Remove punctuation\n",
        "    text = ''.join(ch for ch in text if ch not in punctuation)\n",
        "    # Convert to lowercase\n",
        "    text = text.lower()\n",
        "    # Split on whitespace\n",
        "    tokens = text.split()\n",
        "    # Remove stopwords and tokens that are not purely alphabetic or are too short\n",
        "    tokens = [word for word in tokens if word not in sw and word.isalpha() and len(word) > 2]\n",
        "    return tokens\n",
        "\n",
        "# Traverse the directory structure to process lyrics files\n",
        "for artist_folder in os.listdir(lyrics_folder):\n",
        "    artist_folder_path = os.path.join(lyrics_folder, artist_folder)\n",
        "    if os.path.isdir(artist_folder_path):\n",
        "        for file_name in os.listdir(artist_folder_path):\n",
        "            file_path = os.path.join(artist_folder_path, file_name)\n",
        "            if os.path.isfile(file_path) and file_name.endswith('.txt'):\n",
        "                try:\n",
        "                    with open(file_path, 'r', encoding='utf-8') as file:\n",
        "                        # Read the file\n",
        "                        content = file.read()\n",
        "                        # Extract the title and lyrics\n",
        "                        parts = content.split('\\n', 1)\n",
        "                        if len(parts) == 2:\n",
        "                            title, lyrics = parts\n",
        "                            # Clean and tokenize the lyrics\n",
        "                            cleaned_tokens = clean_and_tokenize(lyrics)\n",
        "                            # Store the cleaned lyrics\n",
        "                            lyrics_data[artist_folder][title] = cleaned_tokens\n",
        "                except Exception as e:\n",
        "                    print(f\"Error reading file {file_path}: {e}\")\n",
        "\n",
        "# Convert the dictionary to a DataFrame for easier inspection\n",
        "lyrics_list = []\n",
        "for artist, songs in lyrics_data.items():\n",
        "    for song, tokens in songs.items():\n",
        "        lyrics_list.append({\n",
        "            'artist': artist,\n",
        "            'song': song,\n",
        "            'lyrics_tokens': tokens\n",
        "        })\n",
        "\n",
        "lyrics_df = pd.DataFrame(lyrics_list)\n",
        "\n",
        "# Display the DataFrame to verify\n",
        "print(\"Lyrics DataFrame with Cleaned Tokens:\")\n",
        "print(lyrics_df.head(10))\n",
        "\n",
        "# For verification, check the first few entries in the dictionary\n",
        "print(\"\\nSample Lyrics Dictionary:\")\n",
        "for artist in list(lyrics_data.keys())[:2]:\n",
        "    print(f\"Artist: {artist}\")\n",
        "    for song in list(lyrics_data[artist].keys())[:2]:\n",
        "        print(f\"  Song: {song}\")\n",
        "        print(f\"    Tokens: {lyrics_data[artist][song][:10]}...\")\n"
      ]
    },
    {
      "cell_type": "markdown",
      "id": "f2dd0179",
      "metadata": {
        "id": "f2dd0179"
      },
      "source": [
        "## Basic Descriptive Statistics\n",
        "\n",
        "Call your `descriptive_stats` function on both your lyrics data and your twitter data and for both artists (four total calls)."
      ]
    },
    {
      "cell_type": "code",
      "execution_count": null,
      "id": "R4-1jCKOLwPC",
      "metadata": {
        "colab": {
          "base_uri": "https://localhost:8080/",
          "height": 204
        },
        "id": "R4-1jCKOLwPC",
        "outputId": "f218cd35-6add-4894-d24b-c6150c70c672"
      },
      "outputs": [
        {
          "data": {
            "text/html": [
              "<div>\n",
              "<style scoped>\n",
              "    .dataframe tbody tr th:only-of-type {\n",
              "        vertical-align: middle;\n",
              "    }\n",
              "\n",
              "    .dataframe tbody tr th {\n",
              "        vertical-align: top;\n",
              "    }\n",
              "\n",
              "    .dataframe thead th {\n",
              "        text-align: right;\n",
              "    }\n",
              "</style>\n",
              "<table border=\"1\" class=\"dataframe\">\n",
              "  <thead>\n",
              "    <tr style=\"text-align: right;\">\n",
              "      <th></th>\n",
              "      <th>artist</th>\n",
              "      <th>song</th>\n",
              "      <th>lyrics_tokens</th>\n",
              "    </tr>\n",
              "  </thead>\n",
              "  <tbody>\n",
              "    <tr>\n",
              "      <th>0</th>\n",
              "      <td>robyn</td>\n",
              "      <td>\"Include Me Out\"</td>\n",
              "      <td>[really, simple, single, pulse, repeated, regu...</td>\n",
              "    </tr>\n",
              "    <tr>\n",
              "      <th>1</th>\n",
              "      <td>robyn</td>\n",
              "      <td>\"Electric\"</td>\n",
              "      <td>[electric, electric, natural, high, electric, ...</td>\n",
              "    </tr>\n",
              "    <tr>\n",
              "      <th>2</th>\n",
              "      <td>robyn</td>\n",
              "      <td>\"Beach 2K20\"</td>\n",
              "      <td>[wanna, gonna, get, call, someone, alright, ca...</td>\n",
              "    </tr>\n",
              "    <tr>\n",
              "      <th>3</th>\n",
              "      <td>robyn</td>\n",
              "      <td>\"Love Kills\"</td>\n",
              "      <td>[youre, looking, love, get, heart, made, steel...</td>\n",
              "    </tr>\n",
              "    <tr>\n",
              "      <th>4</th>\n",
              "      <td>robyn</td>\n",
              "      <td>\"Time Machine\"</td>\n",
              "      <td>[hey, cant, believe, fit, threw, stupid, wante...</td>\n",
              "    </tr>\n",
              "  </tbody>\n",
              "</table>\n",
              "</div>"
            ],
            "text/plain": [
              "  artist              song                                      lyrics_tokens\n",
              "0  robyn  \"Include Me Out\"  [really, simple, single, pulse, repeated, regu...\n",
              "1  robyn        \"Electric\"  [electric, electric, natural, high, electric, ...\n",
              "2  robyn      \"Beach 2K20\"  [wanna, gonna, get, call, someone, alright, ca...\n",
              "3  robyn      \"Love Kills\"  [youre, looking, love, get, heart, made, steel...\n",
              "4  robyn    \"Time Machine\"  [hey, cant, believe, fit, threw, stupid, wante..."
            ]
          },
          "execution_count": 12,
          "metadata": {},
          "output_type": "execute_result"
        }
      ],
      "source": [
        "lyrics_df.head()"
      ]
    },
    {
      "cell_type": "code",
      "execution_count": null,
      "id": "TT7_LJ9PLnVU",
      "metadata": {
        "colab": {
          "base_uri": "https://localhost:8080/",
          "height": 111
        },
        "id": "TT7_LJ9PLnVU",
        "outputId": "9c599818-b6a4-44aa-ffc4-5dbb84b29f48"
      },
      "outputs": [
        {
          "data": {
            "text/html": [
              "<div>\n",
              "<style scoped>\n",
              "    .dataframe tbody tr th:only-of-type {\n",
              "        vertical-align: middle;\n",
              "    }\n",
              "\n",
              "    .dataframe tbody tr th {\n",
              "        vertical-align: top;\n",
              "    }\n",
              "\n",
              "    .dataframe thead th {\n",
              "        text-align: right;\n",
              "    }\n",
              "</style>\n",
              "<table border=\"1\" class=\"dataframe\">\n",
              "  <thead>\n",
              "    <tr style=\"text-align: right;\">\n",
              "      <th></th>\n",
              "      <th>artist</th>\n",
              "      <th>description_tokens</th>\n",
              "    </tr>\n",
              "  </thead>\n",
              "  <tbody>\n",
              "    <tr>\n",
              "      <th>0</th>\n",
              "      <td>cher_followers_data</td>\n",
              "      <td>[𝙿𝚛𝚘𝚞𝚍, 𝚜𝚞𝚙𝚙𝚘𝚛𝚝𝚎𝚛, 𝚖𝚎𝚜𝚜𝚢, 𝚋𝚞𝚗𝚜, 𝚕𝚎𝚐𝚐𝚒𝚗𝚐𝚜, csu,...</td>\n",
              "    </tr>\n",
              "    <tr>\n",
              "      <th>1</th>\n",
              "      <td>robynkonichiwa_followers_data</td>\n",
              "      <td>[books, movies, music, nature, shows, sweetee,...</td>\n",
              "    </tr>\n",
              "  </tbody>\n",
              "</table>\n",
              "</div>"
            ],
            "text/plain": [
              "                          artist  \\\n",
              "0            cher_followers_data   \n",
              "1  robynkonichiwa_followers_data   \n",
              "\n",
              "                                  description_tokens  \n",
              "0  [𝙿𝚛𝚘𝚞𝚍, 𝚜𝚞𝚙𝚙𝚘𝚛𝚝𝚎𝚛, 𝚖𝚎𝚜𝚜𝚢, 𝚋𝚞𝚗𝚜, 𝚕𝚎𝚐𝚐𝚒𝚗𝚐𝚜, csu,...  \n",
              "1  [books, movies, music, nature, shows, sweetee,...  "
            ]
          },
          "execution_count": 13,
          "metadata": {},
          "output_type": "execute_result"
        }
      ],
      "source": [
        "twitter_df.head()"
      ]
    },
    {
      "cell_type": "code",
      "execution_count": null,
      "id": "mnmlzeHINvbT",
      "metadata": {
        "id": "mnmlzeHINvbT"
      },
      "outputs": [],
      "source": [
        "# Define the descriptive_stats function\n",
        "from collections import Counter\n",
        "\n",
        "def descriptive_stats(tokens, num_tokens=5, verbose=True):\n",
        "    \"\"\"\n",
        "    Given a list of tokens, print number of tokens, number of unique tokens,\n",
        "    number of characters, lexical diversity, and num_tokens most common tokens.\n",
        "    Return a list with the number of tokens, number of unique tokens,\n",
        "    lexical diversity, and number of characters.\n",
        "    \"\"\"\n",
        "    num_tokens = len(tokens)\n",
        "    num_unique_tokens = len(set(tokens))\n",
        "    lexical_diversity = num_unique_tokens / num_tokens if num_tokens > 0 else 0\n",
        "    num_characters = sum(len(token) for token in tokens)\n",
        "    most_common_tokens = Counter(tokens).most_common(num_tokens)\n",
        "\n",
        "    if verbose:\n",
        "        print(f\"There are {num_tokens} tokens in the data.\")\n",
        "        print(f\"There are {num_unique_tokens} unique tokens in the data.\")\n",
        "        print(f\"There are {num_characters} characters in the data.\")\n",
        "        print(f\"The lexical diversity is {lexical_diversity:.3f} in the data.\")\n",
        "        #print(f\"Most common tokens: {most_common_tokens}\")\n",
        "\n",
        "    return [num_tokens, num_unique_tokens, lexical_diversity, num_characters]\n"
      ]
    },
    {
      "cell_type": "code",
      "execution_count": null,
      "id": "57bc4c29-ff0e-45ca-ae37-177b237bf1a8",
      "metadata": {
        "id": "57bc4c29-ff0e-45ca-ae37-177b237bf1a8",
        "outputId": "6c7add84-4aad-4d5b-cb98-24347995ffd9"
      },
      "outputs": [
        {
          "name": "stdout",
          "output_type": "stream",
          "text": [
            "\n",
            "Descriptive statistics for artist: robyn\n",
            "There are 12312 tokens in the data.\n",
            "There are 2046 unique tokens in the data.\n",
            "There are 60901 characters in the data.\n",
            "The lexical diversity is 0.166 in the data.\n",
            "\n",
            "Descriptive statistics for artist: cher\n",
            "There are 33501 tokens in the data.\n",
            "There are 3615 unique tokens in the data.\n",
            "There are 164718 characters in the data.\n",
            "The lexical diversity is 0.108 in the data.\n"
          ]
        }
      ],
      "source": [
        "# Apply descriptive_stats to each artist in lyrics data\n",
        "for artist in lyrics_df['artist'].unique():\n",
        "    artist_lyrics_tokens = lyrics_df[lyrics_df['artist'] == artist]['lyrics_tokens'].explode().tolist()\n",
        "    print(f\"\\nDescriptive statistics for artist: {artist}\")\n",
        "    descriptive_stats(artist_lyrics_tokens)"
      ]
    },
    {
      "cell_type": "code",
      "execution_count": null,
      "id": "23d791a1-8efe-4251-8d86-c1e44f1be3f7",
      "metadata": {
        "id": "23d791a1-8efe-4251-8d86-c1e44f1be3f7",
        "outputId": "051c13a0-d43f-4afc-fccd-f9f4559b445b"
      },
      "outputs": [
        {
          "name": "stdout",
          "output_type": "stream",
          "text": [
            "\n",
            "Descriptive statistics for artist: cher_followers_data\n",
            "There are 13068384 tokens in the data.\n",
            "There are 959722 unique tokens in the data.\n",
            "There are 81748253 characters in the data.\n",
            "The lexical diversity is 0.073 in the data.\n",
            "\n",
            "Descriptive statistics for artist: robynkonichiwa_followers_data\n",
            "There are 1262649 tokens in the data.\n",
            "There are 195628 unique tokens in the data.\n",
            "There are 8135552 characters in the data.\n",
            "The lexical diversity is 0.155 in the data.\n"
          ]
        }
      ],
      "source": [
        "# Apply descriptive_stats to each artist in twitter data\n",
        "for artist in twitter_df['artist'].unique():\n",
        "    artist_twitter_tokens = twitter_df[twitter_df['artist'] == artist]['description_tokens'].explode().tolist()\n",
        "    print(f\"\\nDescriptive statistics for artist: {artist}\")\n",
        "    descriptive_stats(artist_twitter_tokens)"
      ]
    },
    {
      "cell_type": "markdown",
      "id": "46294409",
      "metadata": {
        "id": "46294409"
      },
      "source": [
        "Q: How do you think the \"top 5 words\" would be different if we left stopwords in the data?\n",
        "\n",
        "A: If we don't remove the stopwords which are the most common words like \"is\" and \"the\", then I would expect that majority of the top 5 words would include stopwords.\n",
        "\n",
        "---\n",
        "\n",
        "Q: What were your prior beliefs about the lexical diversity between the artists? Does the difference (or lack thereof) in lexical diversity between the artists conform to your prior beliefs?\n",
        "\n",
        "A: I don't personally know much about both artist but I know that they are both pop singers. Robyn might be more niche and she is more involved in writting her own songs. So I would assume that Robyn might have slightly higher lexical diversity but not significantly different with her lyrics. We can see that this is the case if we compare the lexical diverity lyrics scores between the two artists. Robyn's twetter lexical diversity is significantly higher than cher. This might be connected to increased engagement with having varied of vocabulary and topics.  \n"
      ]
    },
    {
      "cell_type": "markdown",
      "id": "4d4e1ac1",
      "metadata": {
        "id": "4d4e1ac1"
      },
      "source": [
        "\n",
        "## Specialty Statistics\n",
        "\n",
        "The descriptive statistics we have calculated are quite generic. You will now calculate a handful of statistics tailored to these data.\n",
        "\n",
        "1. Ten most common emojis by artist in the twitter descriptions.\n",
        "1. Ten most common hashtags by artist in the twitter descriptions.\n",
        "1. Five most common words in song titles by artist.\n",
        "1. For each artist, a histogram of song lengths (in terms of number of tokens)\n",
        "\n",
        "We can use the `emoji` library to help us identify emojis and you have been given a function to help you.\n"
      ]
    },
    {
      "cell_type": "code",
      "execution_count": null,
      "id": "753a5a3e",
      "metadata": {
        "id": "753a5a3e"
      },
      "outputs": [],
      "source": [
        "assert(emoji.is_emoji(\"❤️\"))\n",
        "assert(not emoji.is_emoji(\":-)\"))"
      ]
    },
    {
      "cell_type": "markdown",
      "id": "986fc4c0",
      "metadata": {
        "id": "986fc4c0"
      },
      "source": [
        "### Emojis 😁\n",
        "\n",
        "What are the ten most common emojis by artist in the twitter descriptions?\n"
      ]
    },
    {
      "cell_type": "code",
      "execution_count": null,
      "id": "59fe528f-5a3a-479b-9a47-eca16d3bca2f",
      "metadata": {
        "id": "59fe528f-5a3a-479b-9a47-eca16d3bca2f",
        "outputId": "729ab7d2-6b68-48c2-e647-c5964a657407"
      },
      "outputs": [
        {
          "data": {
            "text/html": [
              "<div>\n",
              "<style scoped>\n",
              "    .dataframe tbody tr th:only-of-type {\n",
              "        vertical-align: middle;\n",
              "    }\n",
              "\n",
              "    .dataframe tbody tr th {\n",
              "        vertical-align: top;\n",
              "    }\n",
              "\n",
              "    .dataframe thead th {\n",
              "        text-align: right;\n",
              "    }\n",
              "</style>\n",
              "<table border=\"1\" class=\"dataframe\">\n",
              "  <thead>\n",
              "    <tr style=\"text-align: right;\">\n",
              "      <th></th>\n",
              "      <th>artist</th>\n",
              "      <th>description</th>\n",
              "    </tr>\n",
              "  </thead>\n",
              "  <tbody>\n",
              "    <tr>\n",
              "      <th>0</th>\n",
              "      <td>cher_followers_data</td>\n",
              "      <td></td>\n",
              "    </tr>\n",
              "    <tr>\n",
              "      <th>1</th>\n",
              "      <td>cher_followers_data</td>\n",
              "      <td>𝙿𝚛𝚘𝚞𝚍 𝚜𝚞𝚙𝚙𝚘𝚛𝚝𝚎𝚛 𝚘𝚏 𝚖𝚎𝚜𝚜𝚢 𝚋𝚞𝚗𝚜 &amp; 𝚕𝚎𝚐𝚐𝚒𝚗𝚐𝚜</td>\n",
              "    </tr>\n",
              "    <tr>\n",
              "      <th>2</th>\n",
              "      <td>cher_followers_data</td>\n",
              "      <td>163㎝／愛かっぷ💜26歳🍒 工〇好きな女の子💓 フォローしてくれたらDMします🧡</td>\n",
              "    </tr>\n",
              "    <tr>\n",
              "      <th>3</th>\n",
              "      <td>cher_followers_data</td>\n",
              "      <td>csu</td>\n",
              "    </tr>\n",
              "    <tr>\n",
              "      <th>4</th>\n",
              "      <td>cher_followers_data</td>\n",
              "      <td>Writer @Washinformer @SpelmanCollege alumna #D...</td>\n",
              "    </tr>\n",
              "  </tbody>\n",
              "</table>\n",
              "</div>"
            ],
            "text/plain": [
              "                artist                                        description\n",
              "0  cher_followers_data                                                   \n",
              "1  cher_followers_data           𝙿𝚛𝚘𝚞𝚍 𝚜𝚞𝚙𝚙𝚘𝚛𝚝𝚎𝚛 𝚘𝚏 𝚖𝚎𝚜𝚜𝚢 𝚋𝚞𝚗𝚜 & 𝚕𝚎𝚐𝚐𝚒𝚗𝚐𝚜\n",
              "2  cher_followers_data          163㎝／愛かっぷ💜26歳🍒 工〇好きな女の子💓 フォローしてくれたらDMします🧡\n",
              "3  cher_followers_data                                                csu\n",
              "4  cher_followers_data  Writer @Washinformer @SpelmanCollege alumna #D..."
            ]
          },
          "execution_count": 18,
          "metadata": {},
          "output_type": "execute_result"
        }
      ],
      "source": [
        "twitter_descriptions_df.head()"
      ]
    },
    {
      "cell_type": "code",
      "execution_count": null,
      "id": "269cd433",
      "metadata": {
        "id": "269cd433",
        "outputId": "b7a3986d-41b9-41ac-f6a0-678e65ed3052"
      },
      "outputs": [
        {
          "name": "stdout",
          "output_type": "stream",
          "text": [
            "\n",
            "Top 10 emojis for artist: cher_followers_data\n",
            "Emoji: ❤ | Count: 79482\n",
            "Emoji: 🌈 | Count: 47853\n",
            "Emoji: ♥ | Count: 34304\n",
            "Emoji: 🏳 | Count: 33640\n",
            "Emoji: ✨ | Count: 29776\n",
            "Emoji: 💙 | Count: 21529\n",
            "Emoji: 🏻 | Count: 20993\n",
            "Emoji: 🌊 | Count: 20350\n",
            "Emoji: ✌ | Count: 16887\n",
            "Emoji: 💜 | Count: 16624\n",
            "\n",
            "Top 10 emojis for artist: robynkonichiwa_followers_data\n",
            "Emoji: ❤ | Count: 4808\n",
            "Emoji: 🌈 | Count: 4702\n",
            "Emoji: 🏳 | Count: 3539\n",
            "Emoji: ♥ | Count: 3117\n",
            "Emoji: ✨ | Count: 2240\n",
            "Emoji: 🏻 | Count: 1498\n",
            "Emoji: ✌ | Count: 1194\n",
            "Emoji: 🏼 | Count: 1145\n",
            "Emoji: ♀ | Count: 848\n",
            "Emoji: 💙 | Count: 818\n"
          ]
        }
      ],
      "source": [
        "# Extract and Count top 10 Emojis for each artist\n",
        "def extract_emojis(text):\n",
        "    \"\"\"\n",
        "    Extract emojis from a given text.\n",
        "    \"\"\"\n",
        "    return [char for char in text if emoji.is_emoji(char)]\n",
        "\n",
        "def top_emojis_by_artist(twitter_descriptions_df):\n",
        "    \"\"\"\n",
        "    For each artist in the DataFrame, print the ten most common emojis.\n",
        "    \"\"\"\n",
        "    # Initialize a dictionary to store emoji counts by artist\n",
        "    artist_emoji_counts = {}\n",
        "\n",
        "    # Iterate through each artist in the DataFrame\n",
        "    for artist in twitter_df['artist'].unique():\n",
        "        # Filter the DataFrame for the current artist\n",
        "        artist_data = twitter_descriptions_df[twitter_descriptions_df['artist'] == artist]\n",
        "\n",
        "        # Combine all description texts for the artist into a single string\n",
        "        all_description_texts = ' '.join(artist_data['description'].astype(str).tolist())\n",
        "\n",
        "        # Extract emojis from the combined description texts\n",
        "        emojis = extract_emojis(all_description_texts)\n",
        "\n",
        "        # Count the frequency of each emoji\n",
        "        emoji_counts = Counter(emojis)\n",
        "\n",
        "        # Store the counts in the dictionary\n",
        "        artist_emoji_counts[artist] = emoji_counts\n",
        "\n",
        "        # Print the ten most common emojis for the artist\n",
        "        print(f\"\\nTop 10 emojis for artist: {artist}\")\n",
        "        for emoji_char, count in emoji_counts.most_common(10):\n",
        "            print(f\"Emoji: {emoji_char} | Count: {count}\")\n",
        "\n",
        "    return artist_emoji_counts\n",
        "\n",
        "# Call the function with your Twitter DataFrame\n",
        "artist_emoji_counts = top_emojis_by_artist(twitter_descriptions_df)\n"
      ]
    },
    {
      "cell_type": "markdown",
      "id": "bab9b770",
      "metadata": {
        "id": "bab9b770"
      },
      "source": [
        "### Hashtags\n",
        "\n",
        "What are the ten most common hashtags by artist in the twitter descriptions?\n"
      ]
    },
    {
      "cell_type": "code",
      "execution_count": null,
      "id": "07c396f1",
      "metadata": {
        "id": "07c396f1",
        "outputId": "5fd4a961-d750-4fd0-e39a-533d872b6f57"
      },
      "outputs": [
        {
          "name": "stdout",
          "output_type": "stream",
          "text": [
            "\n",
            "Top 10 hashtags for artist: cher_followers_data\n",
            "Hashtag: #BLM | Count: 9541\n",
            "Hashtag: #Resist | Count: 6035\n",
            "Hashtag: #BlackLivesMatter | Count: 4683\n",
            "Hashtag: #resist | Count: 3797\n",
            "Hashtag: #FBR | Count: 3240\n",
            "Hashtag: #TheResistance | Count: 2995\n",
            "Hashtag: #blacklivesmatter | Count: 2645\n",
            "Hashtag: #1 | Count: 2637\n",
            "Hashtag: #Resistance | Count: 1917\n",
            "Hashtag: #RESIST | Count: 1824\n",
            "\n",
            "Top 10 hashtags for artist: robynkonichiwa_followers_data\n",
            "Hashtag: #BlackLivesMatter | Count: 337\n",
            "Hashtag: #BLM | Count: 307\n",
            "Hashtag: #blacklivesmatter | Count: 208\n",
            "Hashtag: #1 | Count: 199\n",
            "Hashtag: #music | Count: 174\n",
            "Hashtag: #Music | Count: 113\n",
            "Hashtag: #EDM | Count: 86\n",
            "Hashtag: #LGBTQ | Count: 75\n",
            "Hashtag: #TeamFollowBack | Count: 59\n",
            "Hashtag: #blm | Count: 56\n"
          ]
        }
      ],
      "source": [
        "# Extract and Count top 10 Emojis for each artist\n",
        "def extract_hashtags(text):\n",
        "    \"\"\"\n",
        "    Extract hashtags from a given text.\n",
        "    \"\"\"\n",
        "    return re.findall(r'#\\w+', text)\n",
        "\n",
        "def top_hashtags_by_artist(twitter_descriptions_df):\n",
        "    \"\"\"\n",
        "    For each artist in the DataFrame, print the ten most common hashtags.\n",
        "    \"\"\"\n",
        "    # Initialize a dictionary to store hashtag counts by artist\n",
        "    artist_hashtag_counts = {}\n",
        "\n",
        "    # Iterate through each artist in the DataFrame\n",
        "    for artist in twitter_descriptions_df['artist'].unique():\n",
        "        # Filter the DataFrame for the current artist\n",
        "        artist_data = twitter_descriptions_df[twitter_descriptions_df['artist'] == artist]\n",
        "\n",
        "        # Combine all description texts for the artist into a single string\n",
        "        all_description_texts = ' '.join(artist_data['description'].astype(str).tolist())\n",
        "\n",
        "        # Extract hashtags from the combined description texts\n",
        "        hashtags = extract_hashtags(all_description_texts)\n",
        "\n",
        "        # Count the frequency of each hashtag\n",
        "        hashtag_counts = Counter(hashtags)\n",
        "\n",
        "        # Store the counts in the dictionary\n",
        "        artist_hashtag_counts[artist] = hashtag_counts\n",
        "\n",
        "        # Print the ten most common hashtags for the artist\n",
        "        print(f\"\\nTop 10 hashtags for artist: {artist}\")\n",
        "        for hashtag, count in hashtag_counts.most_common(10):\n",
        "            print(f\"Hashtag: {hashtag} | Count: {count}\")\n",
        "\n",
        "    return artist_hashtag_counts\n",
        "\n",
        "# Call the function with your Twitter DataFrame\n",
        "artist_hashtag_counts = top_hashtags_by_artist(twitter_descriptions_df)"
      ]
    },
    {
      "cell_type": "markdown",
      "id": "d10f21d5",
      "metadata": {
        "id": "d10f21d5"
      },
      "source": [
        "### Song Titles\n",
        "\n",
        "What are the five most common words in song titles by artist? The song titles should be on the first line of the lyrics pages, so if you have kept the raw file contents around, you will not need to re-read the data.\n"
      ]
    },
    {
      "cell_type": "code",
      "execution_count": null,
      "id": "b6899baa-6221-4f02-a219-7ef690880840",
      "metadata": {
        "id": "b6899baa-6221-4f02-a219-7ef690880840",
        "outputId": "4330a794-e090-426b-8169-107576f007cd"
      },
      "outputs": [
        {
          "name": "stdout",
          "output_type": "stream",
          "text": [
            "\n",
            "Top 5 words in song titles for artist: robyn\n",
            "Word: me | Count: 9\n",
            "Word: you | Count: 8\n",
            "Word: the | Count: 7\n",
            "Word: my | Count: 6\n",
            "Word: love | Count: 5\n",
            "\n",
            "Top 5 words in song titles for artist: cher\n",
            "Word: the | Count: 54\n",
            "Word: you | Count: 41\n",
            "Word: love | Count: 36\n",
            "Word: i | Count: 32\n",
            "Word: to | Count: 28\n"
          ]
        }
      ],
      "source": [
        "# Function to tokenize text\n",
        "def tokenize(text):\n",
        "    # Remove punctuation and split text into words\n",
        "    text = text.translate(str.maketrans('', '', string.punctuation))\n",
        "    words = text.lower().split()\n",
        "    return words\n",
        "\n",
        "def top_words_in_song_titles(lyrics_df, num_common_words=5):\n",
        "    \"\"\"\n",
        "    Find the top most common words in song titles by artist.\n",
        "    \"\"\"\n",
        "    # Initialize a dictionary to store word counts by artist\n",
        "    artist_word_counts = {}\n",
        "\n",
        "    # Iterate through each artist\n",
        "    for artist in lyrics_df['artist'].unique():\n",
        "        # Filter DataFrame for the current artist\n",
        "        artist_data = lyrics_df[lyrics_df['artist'] == artist]\n",
        "\n",
        "        # Get song titles\n",
        "        titles = artist_data['song']\n",
        "        all_words = []\n",
        "\n",
        "        # Tokenize each title and aggregate words\n",
        "        for title in titles:\n",
        "            words = tokenize(title)\n",
        "            all_words.extend(words)\n",
        "\n",
        "        # Count the frequency of each word\n",
        "        word_counts = Counter(all_words)\n",
        "\n",
        "        # Store the counts in the dictionary\n",
        "        artist_word_counts[artist] = word_counts\n",
        "\n",
        "        # Print the five most common words for the artist\n",
        "        print(f\"\\nTop {num_common_words} words in song titles for artist: {artist}\")\n",
        "        for word, count in word_counts.most_common(num_common_words):\n",
        "            print(f\"Word: {word} | Count: {count}\")\n",
        "\n",
        "    return artist_word_counts\n",
        "\n",
        "# Call the function with your DataFrame\n",
        "artist_word_counts = top_words_in_song_titles(lyrics_df)"
      ]
    },
    {
      "cell_type": "markdown",
      "id": "5dd4fd71",
      "metadata": {
        "id": "5dd4fd71"
      },
      "source": [
        "### Song Lengths\n",
        "\n",
        "For each artist, a histogram of song lengths (in terms of number of tokens). If you put the song lengths in a data frame with an artist column, matplotlib will make the plotting quite easy. An example is given to help you out.\n"
      ]
    },
    {
      "cell_type": "code",
      "execution_count": null,
      "id": "b8f9389f-1746-4705-bc67-e6ed75ddb33a",
      "metadata": {
        "id": "b8f9389f-1746-4705-bc67-e6ed75ddb33a",
        "outputId": "cf7ca84a-6e19-4d1d-b673-9eed0cb14cf5"
      },
      "outputs": [
        {
          "data": {
            "image/png": "[encoded data removed]",
            "text/plain": [
              "<Figure size 1200x600 with 1 Axes>"
            ]
          },
          "metadata": {},
          "output_type": "display_data"
        }
      ],
      "source": [
        "# Calculate song lengths (number of tokens)\n",
        "lyrics_df['length'] = lyrics_df['lyrics_tokens'].apply(len)\n",
        "\n",
        "# Prepare DataFrame for plotting\n",
        "plot_df = pd.DataFrame({\n",
        "    'artist': lyrics_df['artist'],\n",
        "    'length': lyrics_df['length']\n",
        "})\n",
        "\n",
        "# Plot histograms\n",
        "plt.figure(figsize=(12, 6))\n",
        "\n",
        "for artist in plot_df['artist'].unique():\n",
        "    subset = plot_df[plot_df['artist'] == artist]\n",
        "    plt.hist(subset['length'], bins=15, alpha=0.5, label=artist, density=True)\n",
        "\n",
        "plt.xlabel('Number of Tokens')\n",
        "plt.ylabel('Density')\n",
        "plt.title('Histogram of Song Lengths (in tokens) by Artist')\n",
        "plt.legend()\n",
        "plt.show()"
      ]
    },
    {
      "cell_type": "markdown",
      "id": "8fde9ebb",
      "metadata": {
        "id": "8fde9ebb"
      },
      "source": [
        "Since the lyrics may be stored with carriage returns or tabs, it may be useful to have a function that can collapse whitespace, using regular expressions, and be used for splitting.\n",
        "\n",
        "Q: What does the regular expression `'\\s+'` match on?\n",
        "\n",
        "A: '\\s+' matches one or more consecutive whitespace characters.\n"
      ]
    },
    {
      "cell_type": "code",
      "execution_count": null,
      "id": "77a0d83b-1fa6-4395-98d3-fdcd31350864",
      "metadata": {
        "id": "77a0d83b-1fa6-4395-98d3-fdcd31350864",
        "outputId": "e075d1f8-09e6-4130-a4af-bedc82f3e830"
      },
      "outputs": [
        {
          "data": {
            "image/png": "[encoded data removed]",
            "text/plain": [
              "<Figure size 1200x600 with 1 Axes>"
            ]
          },
          "metadata": {},
          "output_type": "display_data"
        }
      ],
      "source": [
        "# Define the collapse_whitespace and tokenize_lyrics functions\n",
        "collapse_whitespace = re.compile(r'\\s+')\n",
        "\n",
        "def tokenize_lyrics(lyric):\n",
        "    \"\"\"Strip and split on whitespace\"\"\"\n",
        "    return [item.lower() for item in collapse_whitespace.split(lyric) if item]\n",
        "\n",
        "# Tokenize the lyrics using the updated function\n",
        "lyrics_df['lyrics_tokens'] = lyrics_df['lyrics_tokens'].apply(lambda x: tokenize_lyrics(' '.join(x)))\n",
        "\n",
        "# Calculate length of each song (number of tokens)\n",
        "lyrics_df['length'] = lyrics_df['lyrics_tokens'].apply(len)\n",
        "\n",
        "# Prepare DataFrame for plotting\n",
        "plt.figure(figsize=(12, 6))\n",
        "\n",
        "for artist in lyrics_df['artist'].unique():\n",
        "    subset = lyrics_df[lyrics_df['artist'] == artist]\n",
        "    plt.hist(subset['length'], bins=15, alpha=0.5, label=artist, density=True)\n",
        "\n",
        "plt.xlabel('Number of Tokens')\n",
        "plt.ylabel('Density')\n",
        "plt.title('Histogram of Song Lengths (in tokens) by Artist with Collapsed Whitespace')\n",
        "plt.legend()\n",
        "plt.show()"
      ]
    }
  ],
  "metadata": {
    "colab": {
      "provenance": [],
      "include_colab_link": true
    },
    "kernelspec": {
      "display_name": "Python 3",
      "name": "python3"
    },
    "language_info": {
      "codemirror_mode": {
        "name": "ipython",
        "version": 3
      },
      "file_extension": ".py",
      "mimetype": "text/x-python",
      "name": "python",
      "nbconvert_exporter": "python",
      "pygments_lexer": "ipython3",
      "version": "3.9.19"
    }
  },
  "nbformat": 4,
  "nbformat_minor": 5
}