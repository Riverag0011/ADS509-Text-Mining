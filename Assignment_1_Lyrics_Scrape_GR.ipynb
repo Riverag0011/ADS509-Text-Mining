{
  "cells": [
    {
      "cell_type": "markdown",
      "metadata": {
        "id": "view-in-github",
        "colab_type": "text"
      },
      "source": [
        "<a href=\"https://colab.research.google.com/github/Riverag0011/ADS509-Text-Mining/blob/main/Assignment_1_Lyrics_Scrape_GR.ipynb\" target=\"_parent\"><img src=\"https://colab.research.google.com/assets/colab-badge.svg\" alt=\"Open In Colab\"/></a>"
      ]
    },
    {
      "cell_type": "markdown",
      "source": [
        "# Assignment 1: Lyrics Scraping\n",
        "\n",
        "Name: Gabi Rivera \\\n",
        "Course: ADS509 \\\n",
        "Date: 09Sep2024 \\"
      ],
      "metadata": {
        "id": "9ZLQJiI3YKPx"
      },
      "id": "9ZLQJiI3YKPx"
    },
    {
      "cell_type": "markdown",
      "id": "95952cac",
      "metadata": {
        "id": "95952cac"
      },
      "source": [
        "# ADS 509 Module 1: APIs and Web Scraping\n",
        "\n",
        "This notebook has two parts. In the first part, you will scrape lyrics from AZLyrics.com. In the second part, you'll run code that verifies the completeness of your data pull.\n",
        "\n",
        "For this assignment you have chosen two musical artists who have at least 20 songs with lyrics on AZLyrics.com. We start with pulling some information and analyzing them.\n"
      ]
    },
    {
      "cell_type": "markdown",
      "id": "069b7ae8",
      "metadata": {
        "id": "069b7ae8"
      },
      "source": [
        "## General Assignment Instructions\n",
        "\n",
        "These instructions are included in every assignment, to remind you of the coding standards for the class. Feel free to delete this cell after reading it.\n",
        "\n",
        "One sign of mature code is conforming to a style guide. We recommend the [Google Python Style Guide](https://google.github.io/styleguide/pyguide.html). If you use a different style guide, please include a cell with a link.\n",
        "\n",
        "Your code should be relatively easy-to-read, sensibly commented, and clean. Writing code is a messy process, so please be sure to edit your final submission. Remove any cells that are not needed or parts of cells that contain unnecessary code. Remove inessential `import` statements and make sure that all such statements are moved into the designated cell.\n",
        "\n",
        "Make use of non-code cells for written commentary. These cells should be grammatical and clearly written. In some of these cells you will have questions to answer. The questions will be marked by a \"Q:\" and will have a corresponding \"A:\" spot for you. *Make sure to answer every question marked with a `Q:` for full credit.*\n"
      ]
    },
    {
      "cell_type": "markdown",
      "id": "91c8969e",
      "metadata": {
        "id": "91c8969e"
      },
      "source": [
        "# Importing Libraries"
      ]
    },
    {
      "cell_type": "code",
      "execution_count": 1,
      "id": "185076b0",
      "metadata": {
        "id": "185076b0"
      },
      "outputs": [],
      "source": [
        "import os\n",
        "import datetime\n",
        "import re\n",
        "\n",
        "# for the lyrics scrape section\n",
        "import requests\n",
        "import time\n",
        "from bs4 import BeautifulSoup\n",
        "from collections import defaultdict, Counter\n",
        "import random"
      ]
    },
    {
      "cell_type": "code",
      "execution_count": 2,
      "id": "a47e2d5f",
      "metadata": {
        "id": "a47e2d5f"
      },
      "outputs": [],
      "source": [
        "# Use this cell for any import statements you add\n",
        "import shutil"
      ]
    },
    {
      "cell_type": "markdown",
      "id": "45c13af3",
      "metadata": {
        "id": "45c13af3"
      },
      "source": [
        "---\n",
        "\n",
        "# Lyrics Scrape\n",
        "\n",
        "This section asks you to pull data by scraping www.AZLyrics.com. In the notebooks where you do that work you are asked to store the data in specific ways."
      ]
    },
    {
      "cell_type": "code",
      "execution_count": 3,
      "id": "5bd7df77",
      "metadata": {
        "id": "5bd7df77"
      },
      "outputs": [],
      "source": [
        "artists = {'mileycyrus':\"https://www.azlyrics.com/m/mileycyrus.html\",\n",
        "           'adele':\"https://www.azlyrics.com/a/adele.html\"}\n",
        "# we'll use this dictionary to hold both the artist name and the link on AZlyrics"
      ]
    },
    {
      "cell_type": "markdown",
      "id": "c236c99b",
      "metadata": {
        "id": "c236c99b"
      },
      "source": [
        "## A Note on Rate Limiting\n",
        "\n",
        "The lyrics site, www.azlyrics.com, does not have an explicit maximum on number of requests in any one time, but in our testing it appears that too many requests in too short a time will cause the site to stop returning lyrics pages. (Entertainingly, the page that gets returned seems to only have the song title to [a Tom Jones song](https://www.azlyrics.com/lyrics/tomjones/itsnotunusual.html).)\n",
        "\n",
        "Whenever you call `requests.get` to retrieve a page, put a `time.sleep(5 + 10*random.random())` on the next line. This will help you not to get blocked. If you _do_ get blocked, which you can identify if the returned pages are not correct, just request a lyrics page through your browser. You'll be asked to perform a CAPTCHA and then your requests should start working again.\n",
        "\n",
        "## Part 1: Finding Links to Songs Lyrics\n",
        "\n",
        "That general artist page has a list of all songs for that artist with links to the individual song pages.\n",
        "\n",
        "Q: Take a look at the `robots.txt` page on www.azlyrics.com. (You can read more about these pages [here](https://developers.google.com/search/docs/advanced/robots/intro).) Is the scraping we are about to do allowed or disallowed by this page? How do you know?\n",
        "\n",
        "A: It is allowed. We are requesting for artist_page. Disallowed terms are /lyricsdb/ and /song/.\n"
      ]
    },
    {
      "cell_type": "code",
      "execution_count": 4,
      "id": "ac9d31ec",
      "metadata": {
        "id": "ac9d31ec",
        "colab": {
          "base_uri": "https://localhost:8080/"
        },
        "outputId": "34d80bb4-0066-4341-d3fd-7c0fdf4adaed"
      },
      "outputs": [
        {
          "output_type": "stream",
          "name": "stdout",
          "text": [
            "Successfully retrieved page for mileycyrus (status code 200)\n",
            "Successfully retrieved page for adele (status code 200)\n"
          ]
        }
      ],
      "source": [
        "# Dictionary to hold links to lyrics pages\n",
        "lyrics_pages = defaultdict(list)\n",
        "\n",
        "for artist, artist_page in artists.items():\n",
        "    try:\n",
        "        # Request the page and sleep to avoid getting blocked\n",
        "        r = requests.get(artist_page)\n",
        "        time.sleep(5 + 10 * random.random())\n",
        "\n",
        "        # Check if the request was successful\n",
        "        if r.status_code == 200:\n",
        "            print(f\"Successfully retrieved page for {artist} (status code {r.status_code})\")\n",
        "\n",
        "            # Parse the page content\n",
        "            soup = BeautifulSoup(r.text, 'html.parser')\n",
        "\n",
        "            # Extract links to lyrics pages\n",
        "            for a in soup.find_all('a', href=True):\n",
        "                href = a['href']\n",
        "                if href.startswith('/lyrics') and href.endswith('.html'):\n",
        "                    full_url = f\"https://www.azlyrics.com{href}\"\n",
        "                    lyrics_pages[artist].append(full_url)\n",
        "\n",
        "            if not lyrics_pages[artist]:\n",
        "                print(f\"No lyrics links found for {artist}.\")\n",
        "        else:\n",
        "            print(f\"Failed to retrieve page for {artist} with status code {r.status_code}\")\n",
        "    except Exception as e:\n",
        "        print(f\"An error occurred for {artist}: {e}\")"
      ]
    },
    {
      "cell_type": "markdown",
      "id": "9c285ec1",
      "metadata": {
        "id": "9c285ec1"
      },
      "source": [
        "Let's make sure we have enough lyrics pages to scrape."
      ]
    },
    {
      "cell_type": "code",
      "execution_count": 5,
      "id": "ae4cda68",
      "metadata": {
        "id": "ae4cda68"
      },
      "outputs": [],
      "source": [
        "for artist, lp in lyrics_pages.items() :\n",
        "    assert(len(set(lp)) > 20)"
      ]
    },
    {
      "cell_type": "code",
      "execution_count": 6,
      "id": "edca10d6",
      "metadata": {
        "id": "edca10d6",
        "colab": {
          "base_uri": "https://localhost:8080/"
        },
        "outputId": "a8f305cd-37ac-4dc2-b434-a27e95564c1a"
      },
      "outputs": [
        {
          "output_type": "stream",
          "name": "stdout",
          "text": [
            "For mileycyrus we have 174.\n",
            "The full pull will take for this artist will take 0.48 hours.\n",
            "For adele we have 71.\n",
            "The full pull will take for this artist will take 0.2 hours.\n"
          ]
        }
      ],
      "source": [
        "# Let's see how long it's going to take to pull these lyrics\n",
        "# if we're waiting `5 + 10*random.random()` seconds\n",
        "for artist, links in lyrics_pages.items() :\n",
        "    print(f\"For {artist} we have {len(links)}.\")\n",
        "    print(f\"The full pull will take for this artist will take {round(len(links)*10/3600,2)} hours.\")"
      ]
    },
    {
      "cell_type": "markdown",
      "id": "011be6c6",
      "metadata": {
        "id": "011be6c6"
      },
      "source": [
        "## Part 2: Pulling Lyrics\n",
        "\n",
        "Now that we have the links to our lyrics pages, let's go scrape them! Here are the steps for this part.\n",
        "\n",
        "1. Create an empty folder in our repo called \"lyrics\".\n",
        "1. Iterate over the artists in `lyrics_pages`.\n",
        "1. Create a subfolder in lyrics with the artist's name. For instance, if the artist was Cher you'd have `lyrics/cher/` in your repo.\n",
        "1. Iterate over the pages.\n",
        "1. Request the page and extract the lyrics from the returned HTML file using BeautifulSoup.\n",
        "1. Use the function below, `generate_filename_from_url`, to create a filename based on the lyrics page, then write the lyrics to a text file with that name.\n"
      ]
    },
    {
      "cell_type": "code",
      "execution_count": 7,
      "id": "67693711",
      "metadata": {
        "id": "67693711"
      },
      "outputs": [],
      "source": [
        "# Function to generate filename from URL\n",
        "def generate_filename_from_url(link):\n",
        "    if not link:\n",
        "        return None\n",
        "\n",
        "    # Drop the http or https and the html\n",
        "    name = link.replace(\"https\", \"\").replace(\"http\", \"\")\n",
        "    name = name.replace(\".html\", \"\")\n",
        "\n",
        "    # Replace useless characters with UNDERSCORE\n",
        "    name = name.replace(\"/lyrics/\", \"\")\n",
        "    name = name.replace(\"://\", \"\").replace(\".\", \"_\").replace(\"/\", \"_\")\n",
        "\n",
        "    # Tack on .txt\n",
        "    name = name + \".txt\"\n",
        "\n",
        "    return name"
      ]
    },
    {
      "cell_type": "code",
      "execution_count": 8,
      "id": "94a78c78",
      "metadata": {
        "id": "94a78c78"
      },
      "outputs": [],
      "source": [
        "# Make the lyrics folder here. If you'd like to practice your programming, add functionality\n",
        "# that checks to see if the folder exists. If it does, then use shutil.rmtree to remove it and create a new one.\n",
        "\n",
        "if os.path.isdir(\"lyrics\") :\n",
        "    shutil.rmtree(\"lyrics/\")\n",
        "\n",
        "os.mkdir(\"lyrics\")"
      ]
    },
    {
      "cell_type": "code",
      "execution_count": 9,
      "id": "d655b687",
      "metadata": {
        "colab": {
          "base_uri": "https://localhost:8080/"
        },
        "id": "d655b687",
        "outputId": "753a97a9-58a7-44d6-8024-132410cc792d"
      },
      "outputs": [
        {
          "output_type": "stream",
          "name": "stdout",
          "text": [
            "Successfully retrieved lyrics for mileycyrus from https://www.azlyrics.com/lyrics/mileycyrus/breakout.html\n",
            "Successfully retrieved lyrics for mileycyrus from https://www.azlyrics.com/lyrics/mileycyrus/7things.html\n",
            "Successfully retrieved lyrics for mileycyrus from https://www.azlyrics.com/lyrics/mileycyrus/thedriveway.html\n",
            "Successfully retrieved lyrics for mileycyrus from https://www.azlyrics.com/lyrics/mileycyrus/girlsjustwannahavefun.html\n",
            "Successfully retrieved lyrics for mileycyrus from https://www.azlyrics.com/lyrics/mileycyrus/fullcircle.html\n",
            "Successfully retrieved lyrics for mileycyrus from https://www.azlyrics.com/lyrics/mileycyrus/flyonthewall.html\n",
            "Successfully retrieved lyrics for mileycyrus from https://www.azlyrics.com/lyrics/mileycyrus/bottomoftheocean.html\n",
            "Successfully retrieved lyrics for mileycyrus from https://www.azlyrics.com/lyrics/mileycyrus/wakeupamerica.html\n",
            "Successfully retrieved lyrics for mileycyrus from https://www.azlyrics.com/lyrics/mileycyrus/fourwalls.html\n",
            "Successfully retrieved lyrics for mileycyrus from https://www.azlyrics.com/lyrics/mileycyrus/simplesong.html\n",
            "Successfully retrieved lyrics for mileycyrus from https://www.azlyrics.com/lyrics/mileycyrus/goodbye.html\n",
            "Successfully retrieved lyrics for mileycyrus from https://www.azlyrics.com/lyrics/mileycyrus/seeyouagain.html\n",
            "Successfully retrieved lyrics for mileycyrus from https://www.azlyrics.com/lyrics/mileycyrus/someday.html\n",
            "Successfully retrieved lyrics for mileycyrus from https://www.azlyrics.com/lyrics/mileycyrus/hovering.html\n",
            "Successfully retrieved lyrics for mileycyrus from https://www.azlyrics.com/lyrics/mileycyrus/dontwalkaway.html\n",
            "Successfully retrieved lyrics for mileycyrus from https://www.azlyrics.com/lyrics/mileycyrus/hoedownthrowdown.html\n",
            "Successfully retrieved lyrics for mileycyrus from https://www.azlyrics.com/lyrics/mileycyrus/dream.html\n",
            "Successfully retrieved lyrics for mileycyrus from https://www.azlyrics.com/lyrics/mileycyrus/theclimb.html\n",
            "Successfully retrieved lyrics for mileycyrus from https://www.azlyrics.com/lyrics/mileycyrus/butterflyflyaway.html\n",
            "Successfully retrieved lyrics for mileycyrus from https://www.azlyrics.com/lyrics/mileycyrus/kickingandscreaming.html\n",
            "Successfully retrieved lyrics for adele from https://www.azlyrics.com/lyrics/adele/daydreamer.html\n",
            "Successfully retrieved lyrics for adele from https://www.azlyrics.com/lyrics/adele/bestforlast.html\n",
            "Successfully retrieved lyrics for adele from https://www.azlyrics.com/lyrics/adele/chasingpavements.html\n",
            "Successfully retrieved lyrics for adele from https://www.azlyrics.com/lyrics/adele/coldshoulder.html\n",
            "Successfully retrieved lyrics for adele from https://www.azlyrics.com/lyrics/adele/crazyforyou.html\n",
            "Successfully retrieved lyrics for adele from https://www.azlyrics.com/lyrics/adele/firstlove.html\n",
            "Successfully retrieved lyrics for adele from https://www.azlyrics.com/lyrics/adele/rightasrain.html\n",
            "Successfully retrieved lyrics for adele from https://www.azlyrics.com/lyrics/adele/makeyoufeelmylove.html\n",
            "Successfully retrieved lyrics for adele from https://www.azlyrics.com/lyrics/adele/mysame.html\n",
            "Successfully retrieved lyrics for adele from https://www.azlyrics.com/lyrics/adele/tired.html\n",
            "Successfully retrieved lyrics for adele from https://www.azlyrics.com/lyrics/adele/hometownglory.html\n",
            "Successfully retrieved lyrics for adele from https://www.azlyrics.com/lyrics/adele/thatsitiquitimmovinon.html\n",
            "Successfully retrieved lyrics for adele from https://www.azlyrics.com/lyrics/adele/nowandthen.html\n",
            "Successfully retrieved lyrics for adele from https://www.azlyrics.com/lyrics/adele/paintingpictures.html\n",
            "Successfully retrieved lyrics for adele from https://www.azlyrics.com/lyrics/adele/manyshadesofblack.html\n",
            "Successfully retrieved lyrics for adele from https://www.azlyrics.com/lyrics/adele/rollinginthedeep.html\n",
            "Successfully retrieved lyrics for adele from https://www.azlyrics.com/lyrics/adele/rumourhasit.html\n",
            "Successfully retrieved lyrics for adele from https://www.azlyrics.com/lyrics/adele/turningtables.html\n",
            "Successfully retrieved lyrics for adele from https://www.azlyrics.com/lyrics/adele/dontyouremember.html\n",
            "Total pages scraped: 40\n",
            "Total run time was 0.12 hours.\n"
          ]
        }
      ],
      "source": [
        "# Base URL for constructing links\n",
        "url_stub = \"https://www.azlyrics.com\"\n",
        "\n",
        "start = time.time()\n",
        "total_pages = 0\n",
        "max_songs_per_artist = 20\n",
        "\n",
        "for artist, links in lyrics_pages.items():\n",
        "    # Create a subfolder for the artist\n",
        "    artist_folder = os.path.join(\"lyrics\", artist)\n",
        "    os.makedirs(artist_folder, exist_ok=True)\n",
        "\n",
        "    # Limit the number of songs to 20\n",
        "    song_count = 0\n",
        "\n",
        "    for link in links:\n",
        "        if song_count >= max_songs_per_artist:\n",
        "            break\n",
        "\n",
        "        # Request the lyrics page\n",
        "        r = requests.get(link)\n",
        "        time.sleep(5 + 10 * random.random())\n",
        "\n",
        "        if r.status_code == 200:\n",
        "            print(f\"Successfully retrieved lyrics for {artist} from {link}\")\n",
        "            # Parse the lyrics page\n",
        "            soup = BeautifulSoup(r.text, 'html.parser')\n",
        "\n",
        "            # Extract the title and lyrics\n",
        "            title_tag = soup.find('title')\n",
        "            if title_tag:\n",
        "                title = title_tag.text.split('Lyrics')[0].strip()\n",
        "            else:\n",
        "                title = \"Unknown_Title\"\n",
        "\n",
        "            lyrics_tag = soup.find('div', class_='col-xs-12 col-lg-8 text-center')\n",
        "            if lyrics_tag:\n",
        "                lyrics = lyrics_tag.get_text(separator='\\n').strip()\n",
        "            else:\n",
        "                lyrics = \"Lyrics not found.\"\n",
        "\n",
        "            # Generate filename and write the lyrics to a file\n",
        "            filename = generate_filename_from_url(link)\n",
        "            file_path = os.path.join(artist_folder, filename)\n",
        "\n",
        "            with open(file_path, 'w', encoding='utf-8') as file:\n",
        "                file.write(f\"{title}\\n\\n{lyrics}\")\n",
        "\n",
        "            total_pages += 1\n",
        "            song_count += 1\n",
        "\n",
        "# Print total run time\n",
        "print(f\"Total pages scraped: {total_pages}\")\n",
        "print(f\"Total run time was {round((time.time() - start) / 3600, 2)} hours.\")"
      ]
    },
    {
      "cell_type": "markdown",
      "id": "054cf14b",
      "metadata": {
        "id": "054cf14b"
      },
      "source": [
        "---\n",
        "\n",
        "# Evaluation\n",
        "\n",
        "This assignment asks you to pull data by scraping www.AZLyrics.com.  After you have finished the above sections , run all the cells in this notebook. Print this to PDF and submit it, per the instructions."
      ]
    },
    {
      "cell_type": "code",
      "execution_count": 10,
      "id": "217c2b0a",
      "metadata": {
        "id": "217c2b0a"
      },
      "outputs": [],
      "source": [
        "# Simple word extractor from Peter Norvig: https://norvig.com/spell-correct.html\n",
        "def words(text):\n",
        "    return re.findall(r'\\w+', text.lower())"
      ]
    },
    {
      "cell_type": "markdown",
      "id": "37778a1c",
      "metadata": {
        "id": "37778a1c"
      },
      "source": [
        "## Checking Lyrics\n",
        "\n",
        "The output from your lyrics scrape should be stored in files located in this path from the directory:\n",
        "`/lyrics/[Artist Name]/[filename from URL]`. This code summarizes the information at a high level to help the instructor evaluate your work."
      ]
    },
    {
      "cell_type": "code",
      "execution_count": 11,
      "id": "bccac29c",
      "metadata": {
        "id": "bccac29c",
        "colab": {
          "base_uri": "https://localhost:8080/"
        },
        "outputId": "6e6e7d82-690b-486d-ef52-c12b8844c569"
      },
      "outputs": [
        {
          "output_type": "stream",
          "name": "stdout",
          "text": [
            "For mileycyrus we have 20 files.\n",
            "For mileycyrus we have roughly 12171 words, 1559 are unique.\n",
            "For adele we have 20 files.\n",
            "For adele we have roughly 13171 words, 1731 are unique.\n"
          ]
        }
      ],
      "source": [
        "artist_folders = os.listdir(\"lyrics/\")\n",
        "artist_folders = [f for f in artist_folders if os.path.isdir(\"lyrics/\" + f)]\n",
        "\n",
        "for artist in artist_folders :\n",
        "    artist_files = os.listdir(\"lyrics/\" + artist)\n",
        "    artist_files = [f for f in artist_files if 'txt' in f or 'csv' in f or 'tsv' in f]\n",
        "\n",
        "    print(f\"For {artist} we have {len(artist_files)} files.\")\n",
        "\n",
        "    artist_words = []\n",
        "\n",
        "    for f_name in artist_files :\n",
        "        with open(\"lyrics/\" + artist + \"/\" + f_name) as infile :\n",
        "            artist_words.extend(words(infile.read()))\n",
        "\n",
        "\n",
        "    print(f\"For {artist} we have roughly {len(artist_words)} words, {len(set(artist_words))} are unique.\")\n"
      ]
    }
  ],
  "metadata": {
    "kernelspec": {
      "display_name": "Python 3 (ipykernel)",
      "language": "python",
      "name": "python3"
    },
    "language_info": {
      "codemirror_mode": {
        "name": "ipython",
        "version": 3
      },
      "file_extension": ".py",
      "mimetype": "text/x-python",
      "name": "python",
      "nbconvert_exporter": "python",
      "pygments_lexer": "ipython3",
      "version": "3.8.11"
    },
    "colab": {
      "provenance": [],
      "include_colab_link": true
    }
  },
  "nbformat": 4,
  "nbformat_minor": 5
}